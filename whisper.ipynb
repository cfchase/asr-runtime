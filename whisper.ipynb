{
 "cells": [
  {
   "cell_type": "code",
   "id": "09a7533d-2ffc-4d00-a9ec-d160090b0291",
   "metadata": {
    "collapsed": true,
    "jupyter": {
     "outputs_hidden": true
    },
    "tags": []
   },
   "source": [
    "!pip install transformers\n",
    "!pip install datasets\n",
    "!pip install soundfile\n",
    "!pip install librosa"
   ],
   "outputs": [],
   "execution_count": null
  },
  {
   "metadata": {},
   "cell_type": "code",
   "source": [
    "import torch\n",
    "from transformers import pipeline\n",
    "\n",
    "device = (\n",
    "    \"cuda\" if torch.cuda.is_available()\n",
    "    else \"mps\" if torch.backends.mps.is_available()\n",
    "    else \"cpu\"\n",
    ")\n",
    "pipe = pipeline(\"automatic-speech-recognition\", model=\"openai/whisper-small\", device=device)"
   ],
   "id": "5f324b6d1b02dbb8",
   "outputs": [],
   "execution_count": null
  },
  {
   "metadata": {},
   "cell_type": "code",
   "source": [
    "%%time\n",
    "# transcription = pipe(\"install.wav\")\n",
    "transcription = pipe(\"./scripts/hello-world.mp3\")\n",
    "transcription"
   ],
   "id": "f2212fa0e90a8abd",
   "outputs": [],
   "execution_count": null
  },
  {
   "metadata": {},
   "cell_type": "code",
   "source": [
    "file_path = \"./scripts/hello-world.mp3\"\n",
    "with open(file_path, 'rb') as file:\n",
    "    byte_data = file.read()\n",
    "    print(byte_data[:10])\n",
    "    \n",
    "transcription = pipe(byte_data)\n",
    "transcription"
   ],
   "id": "12244fab10027f65",
   "outputs": [],
   "execution_count": null
  }
 ],
 "metadata": {
  "kernelspec": {
   "display_name": "Python 3.9",
   "language": "python",
   "name": "python3"
  },
  "language_info": {
   "codemirror_mode": {
    "name": "ipython",
    "version": 3
   },
   "file_extension": ".py",
   "mimetype": "text/x-python",
   "name": "python",
   "nbconvert_exporter": "python",
   "pygments_lexer": "ipython3",
   "version": "3.9.18"
  }
 },
 "nbformat": 4,
 "nbformat_minor": 5
}
