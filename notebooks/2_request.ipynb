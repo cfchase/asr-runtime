{
 "cells": [
  {
   "metadata": {},
   "cell_type": "markdown",
   "source": "# REST Inference",
   "id": "cd1e240c13e5b22e"
  },
  {
   "cell_type": "markdown",
   "id": "2c004acc-13cd-4917-8480-592c7c2d623b",
   "metadata": {},
   "source": [
    "## Setup\n",
    "\n",
    "Change that following variable settings match your deployed model's *Inference endpoint*. You can find it on the for example, for InferenceService: \n",
    "\n",
    "```\n",
    "infer_endpoint = \"https://asr-namespace.apps.cluster.domain.com\"\n",
    "```"
   ]
  },
  {
   "metadata": {},
   "cell_type": "markdown",
   "source": "",
   "id": "649f2032d146cc50"
  },
  {
   "cell_type": "code",
   "id": "0de65d02-84a6-4cff-882e-551cdd42b486",
   "metadata": {},
   "source": [
    "infer_endpoint = \"https://asr-namespace.apps.cluster.domain.com\"\n",
    "infer_url = f\"{infer_endpoint}/v1/models/model:predict\""
   ],
   "outputs": [],
   "execution_count": null
  },
  {
   "cell_type": "markdown",
   "id": "d94f9ece-e9cf-44e2-a8a2-73160186aee8",
   "metadata": {},
   "source": [
    "## Request Function\n",
    "\n",
    "Build and submit the REST request. \n",
    "\n",
    "Note: You submit the data in the same format that you used for an ONNX inference."
   ]
  },
  {
   "cell_type": "code",
   "id": "54b9386f-683a-4880-b780-c40bec3ab9f8",
   "metadata": {
    "tags": []
   },
   "source": [
    "import requests\n",
    "\n",
    "\n",
    "def rest_request(b64_data):\n",
    "    json_data = {\n",
    "        \"instances\": [\n",
    "            {\n",
    "                \"audio\": {\n",
    "                    \"type\": \"mp3\",\n",
    "                    \"b64\": b64_data\n",
    "                }\n",
    "            }\n",
    "        ]\n",
    "    }\n",
    "\n",
    "    response = requests.post(infer_url, json=json_data, verify=False)\n",
    "    response_dict = response.json()\n",
    "    return response_dict[\"predictions\"][0][\"transcription\"]"
   ],
   "outputs": [],
   "execution_count": null
  },
  {
   "cell_type": "code",
   "id": "45ad16ac-23da-48bd-9796-f8e4cacae981",
   "metadata": {},
   "source": [
    "import base64\n",
    "\n",
    "file_path = \"../scripts/hello-world.mp3\"\n",
    "\n",
    "with open(file_path, \"rb\") as file:\n",
    "    audio_bytes = file.read()\n",
    "\n",
    "data = base64.b64encode(audio_bytes).decode()\n",
    "prediction = rest_request(data)\n",
    "prediction"
   ],
   "outputs": [],
   "execution_count": null
  }
 ],
 "metadata": {
  "kernelspec": {
   "display_name": "Python 3.9",
   "language": "python",
   "name": "python3"
  },
  "language_info": {
   "codemirror_mode": {
    "name": "ipython",
    "version": 3
   },
   "file_extension": ".py",
   "mimetype": "text/x-python",
   "name": "python",
   "nbconvert_exporter": "python",
   "pygments_lexer": "ipython3",
   "version": "3.9.18"
  }
 },
 "nbformat": 4,
 "nbformat_minor": 5
}
