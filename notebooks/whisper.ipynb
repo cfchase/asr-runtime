{
 "cells": [
  {
   "metadata": {
    "collapsed": true,
    "jupyter": {
     "outputs_hidden": true
    },
    "tags": []
   },
   "cell_type": "code",
   "source": "!pip install torch transformers",
   "id": "09a7533d-2ffc-4d00-a9ec-d160090b0291",
   "outputs": [],
   "execution_count": null
  },
  {
   "metadata": {},
   "cell_type": "code",
   "source": [
    "import torch\n",
    "from transformers import pipeline\n",
    "\n",
    "device = (\n",
    "    \"cuda\" if torch.cuda.is_available()\n",
    "    else \"mps\" if torch.backends.mps.is_available()\n",
    "    else \"cpu\"\n",
    ")\n",
    "pipe = pipeline(\"automatic-speech-recognition\", model=\"openai/whisper-small\", device=device)"
   ],
   "id": "5f324b6d1b02dbb8",
   "outputs": [],
   "execution_count": null
  },
  {
   "metadata": {},
   "cell_type": "code",
   "source": [
    "%%time\n",
    "\n",
    "import os\n",
    "import pathlib\n",
    "\n",
    "\n",
    "# reads all .mp3 and .wav files, regardless of case, \n",
    "# in the data directory and converts them to .txt\n",
    "# files using the whisper model\n",
    "pathlib.Path(\"../output\").mkdir(parents=True, exist_ok=True)\n",
    "for filename in os.listdir(\"../data\"):\n",
    "    base, ext = os.path.splitext(filename)\n",
    "    if ext.lower() in [\".mp3\", \".wav\"]:\n",
    "        transcription = pipe(f\"../data/{filename}\")\n",
    "        print(transcription[\"text\"])\n",
    "        with open(f\"../output/{base}.txt\", \"w\") as f:\n",
    "            f.write(transcription[\"text\"])\n"
   ],
   "id": "f2212fa0e90a8abd",
   "outputs": [],
   "execution_count": null
  },
  {
   "metadata": {},
   "cell_type": "code",
   "source": "",
   "id": "7e2b0b7e9f07b62c",
   "outputs": [],
   "execution_count": null
  }
 ],
 "metadata": {
  "kernelspec": {
   "display_name": "Python 3.9",
   "language": "python",
   "name": "python3"
  },
  "language_info": {
   "codemirror_mode": {
    "name": "ipython",
    "version": 3
   },
   "file_extension": ".py",
   "mimetype": "text/x-python",
   "name": "python",
   "nbconvert_exporter": "python",
   "pygments_lexer": "ipython3",
   "version": "3.9.18"
  }
 },
 "nbformat": 4,
 "nbformat_minor": 5
}
